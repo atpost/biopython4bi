{
 "cells": [
  {
   "cell_type": "markdown",
   "metadata": {},
   "source": [
    "바이오파이썬으로 만나는 생물정보학\n",
    "Ch.2> 바이오파이썬 설치"
   ]
  },
  {
   "cell_type": "code",
   "execution_count": 4,
   "metadata": {},
   "outputs": [
    {
     "name": "stdout",
     "output_type": "stream",
     "text": [
      "1.78\n",
      "\n",
      "Collection of modules for dealing with biological data in Python.\n",
      "\n",
      "The Biopython Project is an international association of developers\n",
      "of freely available Python tools for computational molecular biology.\n",
      "\n",
      "https://biopython.org\n",
      "\n",
      "\n",
      "['D:\\\\ProgramData\\\\Anaconda3\\\\lib\\\\site-packages\\\\Bio']\n",
      "\n"
     ]
    }
   ],
   "source": [
    "import Bio\n",
    "print(Bio.__version__ + \"\\n\")\n",
    "print(Bio.__doc__ + \"\\n\")\n",
    "print(str(Bio.__path__) + \"\\n\")"
   ]
  },
  {
   "cell_type": "code",
   "execution_count": 5,
   "metadata": {},
   "outputs": [
    {
     "name": "stdout",
     "output_type": "stream",
     "text": [
      "1.78\n",
      "\n",
      "Collection of modules for dealing with biological data in Python.\n",
      "\n",
      "The Biopython Project is an international association of developers\n",
      "of freely available Python tools for computational molecular biology.\n",
      "\n",
      "https://biopython.org\n",
      "\n",
      "\n",
      "['D:\\\\ProgramData\\\\Anaconda3\\\\lib\\\\site-packages\\\\Bio']\n"
     ]
    }
   ],
   "source": [
    "import Bio\n",
    "print(Bio.__version__ + \"\\n\")\n",
    "print(Bio.__doc__ + \"\\n\")\n",
    "print(Bio.__path__)"
   ]
  },
  {
   "cell_type": "markdown",
   "metadata": {},
   "source": [
    "Ch.3 생물정보학 파일 포맷 소개\n",
    "    1a. FASTA: 텍스트 기반 포맷, 염기서열|단백질 서열을 나타내기 위해 만듯 파일 포맷\n",
    "              >기호로 시작하는 헤더 + 헤더의 다음 줄부터 이어지는 서열\n",
    "    1b. FASTQ: 텍스트 기반 포맷, 염기서열과 염기서열에 해당하는 퀄리티 점수를 포함한 파일 포맷\n",
    "              총 4줄로 구성, 네 줄이 하나의 Read(시퀀서가 샘플의 서열을 한번에 읽은 길이)를 이룬다\n",
    "              FASTQ 파일 내부에는 수백만, 수천만 개의 Read가 있음\n",
    "              첫번째 줄 - @로 시작하는 헤더 = 염기서열이 읽힌 시퀀싱에 대한 정보\n",
    "              두번째 줄 - 시퀀서가 읽은 염기서열\n",
    "              세번째 줄 - 구분문자로 + 기호가 들어가 있음\n",
    "              네번째 줄 - 시퀀서가 읽은 염기서열의 품질(quality) 정보\n",
    "              \n",
    "    2. SAM/BAM - 구성: 헤더(@기호로 시작) + 정렬  \n",
    "        2.1 SAM: 텍스트 기반 포맷, Read의 정렬된 데이터들을 담음\n",
    "        2.2 BAM: SAM 파일의 압축된 바이너리 형식 파일\n",
    "                 \n",
    "    3. BED(Browser Extensiblle Data) 포맷 : 유전체를 구간별로 나누어 구간의 특징을 주석으로 표기할 수 있는 파일 형식\n",
    "                                            각 항목들은 탭으로 나뉜 텍스트 파일 형식\n",
    "                                            각 구간의 길이를 나타내는데 효과적\n",
    "                                            \n",
    "    4. VCF : 변이 표기용 포맷, 메타 데이터(#으로 시작) + 내용(필수 8개의 열, 각 열은 탭으로 나뉨)으로 구성\n",
    "   \n",
    "           "
   ]
  },
  {
   "cell_type": "markdown",
   "metadata": {},
   "source": [
    "5. GenBank : NCBI DB에서 대중에게 제공하는 포맷, 염기서열과 CDS별로 번역된 아미노산 서열 + 메타 정보\n",
    "                 끝맺음 구분은 //로 마무리\n",
    "                 ex> KT225476.2.gbk"
   ]
  },
  {
   "cell_type": "code",
   "execution_count": 7,
   "metadata": {},
   "outputs": [],
   "source": [
    "from Bio import Entrez\n",
    "Entrez.email = \"ds1aam@gmail.com\"\n",
    "from Bio import GenBank\n",
    "handle = Entrez.efetch(db=\"nucleotide\", id=\"KT225476\", rettype='gb', retmode='text')"
   ]
  },
  {
   "cell_type": "code",
   "execution_count": 8,
   "metadata": {},
   "outputs": [],
   "source": [
    "record = GenBank.read(handle)"
   ]
  },
  {
   "cell_type": "code",
   "execution_count": 9,
   "metadata": {},
   "outputs": [
    {
     "name": "stdout",
     "output_type": "stream",
     "text": [
      "Accession: ['KT225476']\n"
     ]
    }
   ],
   "source": [
    "print(\"Accession:\", record.accession)"
   ]
  },
  {
   "cell_type": "code",
   "execution_count": 10,
   "metadata": {},
   "outputs": [
    {
     "name": "stdout",
     "output_type": "stream",
     "text": [
      "Organism:  Middle East respiratory syndrome-related coronavirus\n"
     ]
    }
   ],
   "source": [
    "print(\"Organism: \", record.organism)"
   ]
  },
  {
   "cell_type": "code",
   "execution_count": 11,
   "metadata": {},
   "outputs": [
    {
     "name": "stdout",
     "output_type": "stream",
     "text": [
      "Size: 29809\n"
     ]
    }
   ],
   "source": [
    "print(\"Size:\", record.size)"
   ]
  },
  {
   "cell_type": "code",
   "execution_count": 12,
   "metadata": {},
   "outputs": [
    {
     "data": {
      "text/plain": [
       "'0b10000101'"
      ]
     },
     "execution_count": 12,
     "metadata": {},
     "output_type": "execute_result"
    }
   ],
   "source": [
    "bin(133)"
   ]
  },
  {
   "cell_type": "code",
   "execution_count": null,
   "metadata": {},
   "outputs": [],
   "source": []
  }
 ],
 "metadata": {
  "kernelspec": {
   "display_name": "Python 3",
   "language": "python",
   "name": "python3"
  },
  "language_info": {
   "codemirror_mode": {
    "name": "ipython",
    "version": 3
   },
   "file_extension": ".py",
   "mimetype": "text/x-python",
   "name": "python",
   "nbconvert_exporter": "python",
   "pygments_lexer": "ipython3",
   "version": "3.7.6"
  }
 },
 "nbformat": 4,
 "nbformat_minor": 4
}
